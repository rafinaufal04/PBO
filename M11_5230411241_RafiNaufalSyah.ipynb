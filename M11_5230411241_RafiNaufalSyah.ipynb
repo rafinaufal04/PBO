{
  "nbformat": 4,
  "nbformat_minor": 0,
  "metadata": {
    "colab": {
      "provenance": []
    },
    "kernelspec": {
      "name": "python3",
      "display_name": "Python 3"
    },
    "language_info": {
      "name": "python"
    }
  },
  "cells": [
    {
      "cell_type": "code",
      "execution_count": 26,
      "metadata": {
        "id": "66Q5mlJ2ra32"
      },
      "outputs": [],
      "source": [
        "import pandas as pd\n",
        "import numpy as np\n",
        "from sklearn.model_selection import train_test_split\n",
        "from sklearn.linear_model import LinearRegression\n",
        "from sklearn.naive_bayes import GaussianNB\n",
        "from sklearn.metrics import mean_squared_error, accuracy_score\n",
        "from sklearn.preprocessing import LabelEncoder, MinMaxScaler\n"
      ]
    },
    {
      "cell_type": "code",
      "source": [
        "# Load the dataset\n",
        "df = pd.read_excel('air_quality.xlsx')\n",
        "\n",
        "# Data preprocessing\n",
        "# Fill missing numerical values with the mean\n",
        "df.fillna(df.mean(numeric_only=True), inplace=True)"
      ],
      "metadata": {
        "id": "TtEpeHIN0ikF"
      },
      "execution_count": 27,
      "outputs": []
    },
    {
      "cell_type": "code",
      "source": [
        "# Handle categorical target column\n",
        "if 'Air Quality' in df.columns:\n",
        "    le = LabelEncoder()\n",
        "    df['Air Quality'] = le.fit_transform(df['Air Quality'].astype(str))"
      ],
      "metadata": {
        "id": "p1cIXU9s0pOm"
      },
      "execution_count": 28,
      "outputs": []
    },
    {
      "cell_type": "code",
      "source": [
        "# Feature selection (X) and target (y)\n",
        "X = df.drop(columns=['Air Quality'])\n",
        "y = df['Air Quality']\n",
        "\n",
        "# Normalize features\n",
        "scaler = MinMaxScaler()\n",
        "X_scaled = scaler.fit_transform(X)\n",
        "\n",
        "# Train-test split\n",
        "X_train, X_test, y_train, y_test = train_test_split(X_scaled, y, test_size=0.2, random_state=42)"
      ],
      "metadata": {
        "id": "HeCqLhgC0wiN"
      },
      "execution_count": 29,
      "outputs": []
    },
    {
      "cell_type": "code",
      "source": [
        "# Linear Regression Model\n",
        "lr_model = LinearRegression()\n",
        "lr_model.fit(X_train, y_train)\n",
        "\n",
        "# Predictions and evaluation for Linear Regression\n",
        "lr_predictions = lr_model.predict(X_test)\n",
        "lr_mse = mean_squared_error(y_test, lr_predictions)\n",
        "print(f\"Linear Regression MSE: {lr_mse}\")"
      ],
      "metadata": {
        "colab": {
          "base_uri": "https://localhost:8080/"
        },
        "id": "SVrEVjY40zvy",
        "outputId": "a1f28e05-0b94-4347-8330-c5422d27c3bc"
      },
      "execution_count": 30,
      "outputs": [
        {
          "output_type": "stream",
          "name": "stdout",
          "text": [
            "Linear Regression MSE: 1.4995030981884738\n"
          ]
        }
      ]
    },
    {
      "cell_type": "code",
      "source": [
        "# Naive Bayes Model\n",
        "nb_model = GaussianNB()\n",
        "nb_model.fit(X_train, y_train)\n",
        "\n",
        "# Predictions and evaluation for Naive Bayes\n",
        "nb_predictions = nb_model.predict(X_test)\n",
        "nb_accuracy = accuracy_score(y_test, nb_predictions)\n",
        "print(f\"Naive Bayes Accuracy: {nb_accuracy}\")"
      ],
      "metadata": {
        "colab": {
          "base_uri": "https://localhost:8080/"
        },
        "id": "u6SAi4Hp05aL",
        "outputId": "c7d1c192-90bc-42e1-9bd2-e96ca4fcfa91"
      },
      "execution_count": 31,
      "outputs": [
        {
          "output_type": "stream",
          "name": "stdout",
          "text": [
            "Naive Bayes Accuracy: 0.85\n"
          ]
        }
      ]
    },
    {
      "cell_type": "code",
      "source": [
        "# Predictions and evaluation\n",
        "rnn_predictions = rnn_model.predict(X_test_rnn)\n",
        "rnn_mse = mean_squared_error(y_test, rnn_predictions)\n",
        "print(f\"RNN MSE: {rnn_mse}\")"
      ],
      "metadata": {
        "colab": {
          "base_uri": "https://localhost:8080/"
        },
        "id": "rDLKCYJY07i7",
        "outputId": "13fb2bfd-9da5-4719-bf4b-77f672625985"
      },
      "execution_count": 32,
      "outputs": [
        {
          "output_type": "stream",
          "name": "stdout",
          "text": [
            "\u001b[1m4/4\u001b[0m \u001b[32m━━━━━━━━━━━━━━━━━━━━\u001b[0m\u001b[37m\u001b[0m \u001b[1m0s\u001b[0m 3ms/step \n",
            "RNN MSE: 1.5879236529567446\n"
          ]
        }
      ]
    },
    {
      "cell_type": "code",
      "source": [
        "while True:\n",
        "    user_input = input(\"Masukkan data baru (nilai dipisahkan dengan koma: 1, 2, 3, 4, 5, 6, 7, 8, 9 atau dengan koma) atau 'keluar' untuk keluar: \")\n",
        "    if user_input.lower() == 'keluar':\n",
        "        break\n",
        "    try:\n",
        "        # Memilih metode prediksi\n",
        "        metode = input(\"Pilih metode ('lr' untuk Linear Regression, 'nb' untuk Naive Bayes): \").strip().lower()\n",
        "        if metode not in ['lr', 'nb']:\n",
        "            print(\"Metode tidak valid. Silakan pilih 'lr' atau 'nb'.\")\n",
        "            continue\n",
        "\n",
        "        # Memproses input pengguna\n",
        "        input_data = np.array([float(i.strip()) for i in user_input.split(\",\")]).reshape(1, -1)\n",
        "        if input_data.shape[1] != X.shape[1]:\n",
        "            raise ValueError(f\"Dibutuhkan {X.shape[1]} fitur, tetapi hanya menerima {input_data.shape[1]}\")\n",
        "\n",
        "        # Normalisasi data input\n",
        "        input_scaled = scaler.transform(input_data)\n",
        "\n",
        "        # Prediksi berdasarkan metode yang dipilih\n",
        "        if metode == 'lr':\n",
        "            lr_result = lr_model.predict(input_scaled)\n",
        "            print(f\"Prediksi Linear Regression: {lr_result[0]:.2f}\")\n",
        "        elif metode == 'nb':\n",
        "            nb_result = nb_model.predict(input_scaled)\n",
        "            print(f\"Prediksi Naive Bayes: {nb_result[0]}\")\n",
        "    except ValueError as ve:\n",
        "        print(f\"Input tidak valid: {ve}. Masukkan {X.shape[1]} nilai numerik yang dipisahkan dengan koma.\")\n",
        "    except Exception as e:\n",
        "        print(f\"Terjadi kesalahan: {e}. Silakan coba lagi.\")"
      ],
      "metadata": {
        "colab": {
          "base_uri": "https://localhost:8080/"
        },
        "id": "NClj7VJP089f",
        "outputId": "e04760cb-4270-4aa2-89e0-8e3bf6a0ef0d"
      },
      "execution_count": null,
      "outputs": [
        {
          "name": "stdout",
          "output_type": "stream",
          "text": [
            "Masukkan data baru (nilai dipisahkan dengan koma) atau 'keluar' untuk keluar: 1, 2, 3, 4 , 5, 6, 7, 8, 9\n",
            "Pilih metode ('lr' untuk Linear Regression, 'nb' untuk Naive Bayes): lr\n"
          ]
        },
        {
          "output_type": "stream",
          "name": "stderr",
          "text": [
            "/usr/local/lib/python3.10/dist-packages/sklearn/base.py:493: UserWarning: X does not have valid feature names, but MinMaxScaler was fitted with feature names\n",
            "  warnings.warn(\n"
          ]
        },
        {
          "name": "stdout",
          "output_type": "stream",
          "text": [
            "Prediksi Linear Regression: 4.89\n",
            "Masukkan data baru (nilai dipisahkan dengan koma) atau 'keluar' untuk keluar: 2, 3, 4, 5, 6, 7, 8, 9, 10\n",
            "Pilih metode ('lr' untuk Linear Regression, 'nb' untuk Naive Bayes): nb\n"
          ]
        },
        {
          "output_type": "stream",
          "name": "stderr",
          "text": [
            "/usr/local/lib/python3.10/dist-packages/sklearn/base.py:493: UserWarning: X does not have valid feature names, but MinMaxScaler was fitted with feature names\n",
            "  warnings.warn(\n"
          ]
        },
        {
          "name": "stdout",
          "output_type": "stream",
          "text": [
            "Prediksi Naive Bayes: 1\n",
            "Masukkan data baru (nilai dipisahkan dengan koma) atau 'keluar' untuk keluar: 29.8,75.6,5.2,17.9, 28.3,74.5,6.3,18.1, 17.9\n",
            "Pilih metode ('lr' untuk Linear Regression, 'nb' untuk Naive Bayes): lr\n"
          ]
        },
        {
          "output_type": "stream",
          "name": "stderr",
          "text": [
            "/usr/local/lib/python3.10/dist-packages/sklearn/base.py:493: UserWarning: X does not have valid feature names, but MinMaxScaler was fitted with feature names\n",
            "  warnings.warn(\n"
          ]
        },
        {
          "name": "stdout",
          "output_type": "stream",
          "text": [
            "Prediksi Linear Regression: 0.79\n",
            "Masukkan data baru (nilai dipisahkan dengan koma) atau 'keluar' untuk keluar: exit\n"
          ]
        }
      ]
    }
  ]
}